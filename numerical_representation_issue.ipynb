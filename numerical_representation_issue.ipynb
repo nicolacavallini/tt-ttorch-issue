{
 "cells": [
  {
   "cell_type": "code",
   "execution_count": 1,
   "id": "9e7b5a98",
   "metadata": {},
   "outputs": [],
   "source": [
    "import numpy as np\n",
    "\n",
    "import torchtt as tntt\n",
    "import torch as tn"
   ]
  },
  {
   "cell_type": "code",
   "execution_count": 2,
   "id": "9549e7d5",
   "metadata": {},
   "outputs": [],
   "source": [
    "n_dofs = 10\n",
    "\n",
    "x = np.linspace(-1,1,n_dofs,dtype=np.float64)\n",
    "\n",
    "f1d = (1-x)*(1+x)"
   ]
  },
  {
   "cell_type": "markdown",
   "id": "0aa5ef83",
   "metadata": {},
   "source": [
    "I wanto to represent the two dimensional function $f(x,y) = (1-x)\\, (1+x) \\otimes (1-y)\\, (1+y)$, and I use three different strategies:"
   ]
  },
  {
   "cell_type": "markdown",
   "id": "75cca439",
   "metadata": {},
   "source": [
    "**Fist strategy:**"
   ]
  },
  {
   "cell_type": "code",
   "execution_count": 3,
   "id": "1064a503",
   "metadata": {},
   "outputs": [],
   "source": [
    "x_, y_ = np.meshgrid(x,x)\n",
    "\n",
    "g = (1-x_)*(1+x_)*(1-y_)*(1+y_)"
   ]
  },
  {
   "cell_type": "markdown",
   "id": "37cb03cf",
   "metadata": {},
   "source": [
    "**Second strategy:**"
   ]
  },
  {
   "cell_type": "code",
   "execution_count": 4,
   "id": "c942c84d",
   "metadata": {},
   "outputs": [],
   "source": [
    "f_kron = np.kron(f1d.reshape(-1,1),f1d.reshape(1,-1))"
   ]
  },
  {
   "cell_type": "markdown",
   "id": "717443c9",
   "metadata": {},
   "source": [
    "**Third Strategy:**"
   ]
  },
  {
   "cell_type": "code",
   "execution_count": 5,
   "id": "1c8dd803",
   "metadata": {},
   "outputs": [],
   "source": [
    "f_tt = tntt.TT([tn.Tensor(f1d.reshape(1,-1,1)),tn.Tensor(f1d.reshape(1,-1,1))])\n",
    "f_tt = f_tt.full().numpy()"
   ]
  },
  {
   "cell_type": "markdown",
   "id": "90e0eba8",
   "metadata": {},
   "source": [
    "I expect the norm of the difference betwee each strategy to be in theorder of the machine epsilon $\\mathcal{O} 10^{-16}$. Instead I get sonmething the range of $\\mathcal{O} 10^{-8}$:"
   ]
  },
  {
   "cell_type": "code",
   "execution_count": 6,
   "id": "de61a728",
   "metadata": {},
   "outputs": [
    {
     "name": "stdout",
     "output_type": "stream",
     "text": [
      "f_tt - groundtruth = 9.811622368482827e-08\n",
      "f_tt - f_kron = 9.811622375918503e-08\n"
     ]
    }
   ],
   "source": [
    "print(\"f_tt - groundtruth = \"+str(np.linalg.norm(f_tt-g)))\n",
    "print(\"f_tt - f_kron = \"+str(np.linalg.norm(f_tt-f_kron)))"
   ]
  },
  {
   "cell_type": "markdown",
   "id": "f494fb55",
   "metadata": {},
   "source": [
    "As a check I control I evaluate `norm(f_kron - groundtruth)`, that is in the expected machine precision range:"
   ]
  },
  {
   "cell_type": "code",
   "execution_count": 7,
   "id": "9804f926",
   "metadata": {},
   "outputs": [
    {
     "name": "stdout",
     "output_type": "stream",
     "text": [
      "f_kron - groundtruth = 3.477763656540197e-16\n"
     ]
    }
   ],
   "source": [
    "print(\"f_kron - groundtruth = \"+str(np.linalg.norm(f_kron-g)))"
   ]
  },
  {
   "cell_type": "markdown",
   "id": "bec8ff7f",
   "metadata": {},
   "source": [
    "**Comment:** I believe this is a finite arithmetic representation type of problem, because if I set the number of intervals equals to a power of two, (`n_dofs = 2**n + 1`), the three quantities are exactly the same and the errors are exactly zero."
   ]
  },
  {
   "cell_type": "code",
   "execution_count": null,
   "id": "cee86372",
   "metadata": {},
   "outputs": [],
   "source": []
  }
 ],
 "metadata": {
  "kernelspec": {
   "display_name": "Python 3 (ipykernel)",
   "language": "python",
   "name": "python3"
  },
  "language_info": {
   "codemirror_mode": {
    "name": "ipython",
    "version": 3
   },
   "file_extension": ".py",
   "mimetype": "text/x-python",
   "name": "python",
   "nbconvert_exporter": "python",
   "pygments_lexer": "ipython3",
   "version": "3.9.16"
  }
 },
 "nbformat": 4,
 "nbformat_minor": 5
}
